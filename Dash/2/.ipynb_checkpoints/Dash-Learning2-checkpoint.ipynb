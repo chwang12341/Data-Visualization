{
 "cells": [
  {
   "cell_type": "markdown",
   "metadata": {},
   "source": [
    "## 預設的下拉式選單與自訂預設選項"
   ]
  },
  {
   "cell_type": "code",
   "execution_count": 4,
   "metadata": {},
   "outputs": [
    {
     "name": "stdout",
     "output_type": "stream",
     "text": [
      "Dash is running on http://127.0.0.1:8050/\n",
      "\n",
      "Dash is running on http://127.0.0.1:8050/\n",
      "\n",
      "Dash is running on http://127.0.0.1:8050/\n",
      "\n",
      " * Serving Flask app \"__main__\" (lazy loading)\n",
      " * Environment: production\n",
      "   WARNING: This is a development server. Do not use it in a production deployment.\n",
      "   Use a production WSGI server instead.\n",
      " * Debug mode: off\n"
     ]
    },
    {
     "name": "stderr",
     "output_type": "stream",
     "text": [
      " * Running on http://127.0.0.1:8050/ (Press CTRL+C to quit)\n",
      "127.0.0.1 - - [04/Sep/2020 17:52:43] \"\u001b[37mGET / HTTP/1.1\u001b[0m\" 200 -\n",
      "127.0.0.1 - - [04/Sep/2020 17:52:43] \"\u001b[37mGET /_dash-layout HTTP/1.1\u001b[0m\" 200 -\n",
      "127.0.0.1 - - [04/Sep/2020 17:52:43] \"\u001b[37mGET /_dash-dependencies HTTP/1.1\u001b[0m\" 200 -\n"
     ]
    }
   ],
   "source": [
    "## 導入Dash所需的套件\n",
    "import dash\n",
    "import dash_core_components as dcc\n",
    "import dash_html_components as html\n",
    "\n",
    "## 啟動Dash\n",
    "app = dash.Dash()\n",
    "\n",
    "## 設定介面\n",
    "app.layout = html.Div([\n",
    "    \n",
    "    \n",
    "    ## 製作下拉式選單\n",
    "    dcc.Dropdown(\n",
    "            id = 'First Dash Dropdown',\n",
    "            options = [\n",
    "                    {'label':'T-shirts', 'value': 'TS'},\n",
    "                    {'label':'Jeans', 'value': 'J'},\n",
    "                    {'label':'Skirt', 'value': 'S'},\n",
    "                    {'label':'Jersey', 'value': 'J'},\n",
    "                    {'label':'Shoes', 'value': 'SH'},\n",
    "                    {'label':'Coat', 'value': 'C'}\n",
    "            ],\n",
    "            ##預設輸入的值\n",
    "            value = 'SH'\n",
    "    )\n",
    "])\n",
    "\n",
    "\n",
    "## 開啟Local Server\n",
    "if __name__ == '__main__':\n",
    "    app.run_server()\n"
   ]
  },
  {
   "cell_type": "markdown",
   "metadata": {},
   "source": [
    "## 實現可以選擇多個選項的下拉式選單、自訂沒有選項時的預設文字、禁用某個選項和鼠標移入顯示資訊的功能"
   ]
  },
  {
   "cell_type": "code",
   "execution_count": 5,
   "metadata": {},
   "outputs": [
    {
     "name": "stdout",
     "output_type": "stream",
     "text": [
      "Dash is running on http://127.0.0.1:8050/\n",
      "\n",
      "Dash is running on http://127.0.0.1:8050/\n",
      "\n",
      "Dash is running on http://127.0.0.1:8050/\n",
      "\n",
      "Dash is running on http://127.0.0.1:8050/\n",
      "\n",
      " * Serving Flask app \"__main__\" (lazy loading)\n",
      " * Environment: production\n",
      "   WARNING: This is a development server. Do not use it in a production deployment.\n",
      "   Use a production WSGI server instead.\n",
      " * Debug mode: off\n"
     ]
    },
    {
     "name": "stderr",
     "output_type": "stream",
     "text": [
      " * Running on http://127.0.0.1:8050/ (Press CTRL+C to quit)\n",
      "127.0.0.1 - - [04/Sep/2020 17:54:00] \"\u001b[37mGET / HTTP/1.1\u001b[0m\" 200 -\n",
      "127.0.0.1 - - [04/Sep/2020 17:54:00] \"\u001b[37mGET /_dash-layout HTTP/1.1\u001b[0m\" 200 -\n",
      "127.0.0.1 - - [04/Sep/2020 17:54:00] \"\u001b[37mGET /_dash-dependencies HTTP/1.1\u001b[0m\" 200 -\n"
     ]
    }
   ],
   "source": [
    "## 導入dash所需套件\n",
    "import dash\n",
    "import dash_core_components as dcc\n",
    "import dash_html_components as html\n",
    "\n",
    "## 啟動Dash\n",
    "app = dash.Dash()\n",
    "\n",
    "## 介面\n",
    "app.layout = html.Div([\n",
    "    \n",
    "    ##下拉式選單\n",
    "    dcc.Dropdown(\n",
    "            id = 'First Dash Dropdown',\n",
    "            options = [\n",
    "                    {'label':'T-shirts', 'value': 'TS'},\n",
    "                    {'label':'Jeans', 'value': 'J'},\n",
    "                    {'label':'Skirt', 'value': 'S', 'disabled':True, 'title':'Skirt is disabled'},\n",
    "                    {'label':'Jersey', 'value': 'J'},\n",
    "                    {'label':'Shoes', 'value': 'SH'},\n",
    "                    {'label':'Coat', 'value': 'C'}\n",
    "            ],\n",
    "            ##預設輸入的值\n",
    "            placeholder = \"Choose Products Here\",\n",
    "            multi = True\n",
    "    )\n",
    "    \n",
    "])\n",
    "\n",
    "## 啟動Local Server\n",
    "if __name__ == '__main__':\n",
    "    app.run_server()\n",
    "\n"
   ]
  },
  {
   "cell_type": "markdown",
   "metadata": {},
   "source": [
    "## 製作一個簡單的滑桿"
   ]
  },
  {
   "cell_type": "code",
   "execution_count": 7,
   "metadata": {},
   "outputs": [
    {
     "name": "stdout",
     "output_type": "stream",
     "text": [
      "Dash is running on http://127.0.0.1:8050/\n",
      "\n",
      "Dash is running on http://127.0.0.1:8050/\n",
      "\n",
      "Dash is running on http://127.0.0.1:8050/\n",
      "\n",
      "Dash is running on http://127.0.0.1:8050/\n",
      "\n",
      "Dash is running on http://127.0.0.1:8050/\n",
      "\n",
      " * Serving Flask app \"__main__\" (lazy loading)\n",
      " * Environment: production\n",
      "   WARNING: This is a development server. Do not use it in a production deployment.\n",
      "   Use a production WSGI server instead.\n",
      " * Debug mode: off\n"
     ]
    },
    {
     "name": "stderr",
     "output_type": "stream",
     "text": [
      " * Running on http://127.0.0.1:8050/ (Press CTRL+C to quit)\n",
      "127.0.0.1 - - [04/Sep/2020 20:42:40] \"\u001b[37mGET / HTTP/1.1\u001b[0m\" 200 -\n",
      "127.0.0.1 - - [04/Sep/2020 20:42:41] \"\u001b[37mGET /_dash-layout HTTP/1.1\u001b[0m\" 200 -\n",
      "127.0.0.1 - - [04/Sep/2020 20:42:41] \"\u001b[37mGET /_dash-dependencies HTTP/1.1\u001b[0m\" 200 -\n",
      "127.0.0.1 - - [04/Sep/2020 20:42:41] \"\u001b[37mGET /_dash-component-suites/dash_core_components/async-slider.v1_11_0m1598373133.js HTTP/1.1\u001b[0m\" 200 -\n"
     ]
    }
   ],
   "source": [
    "## 導入dash所需套件\n",
    "import dash\n",
    "import dash_core_components as dcc\n",
    "import dash_html_components as html\n",
    "\n",
    "## 啟動Dash\n",
    "app = dash.Dash()\n",
    "\n",
    "## 介面\n",
    "app.layout = html.Div([\n",
    "    \n",
    "    html.Label('Slider of Distance'),\n",
    "     \n",
    "    ## 滑桿\n",
    "    dcc.Slider(\n",
    "        min = 0,\n",
    "        max = 100,\n",
    "        value = 65,\n",
    "        step = 5,\n",
    "        marks = {i: i for i in range(0,100,20)},\n",
    "        tooltip = {'always_visible':True, 'placement':\"bottomRight\"},\n",
    "        vertical = False\n",
    "    )\n",
    "])\n",
    "\n",
    "## 啟動Local Server\n",
    "if __name__ == '__main__':\n",
    "    app.run_server()"
   ]
  },
  {
   "cell_type": "markdown",
   "metadata": {},
   "source": [
    "## 繪製兩條滑桿，看出設定included的差別，與有無使用tooltip的差別"
   ]
  },
  {
   "cell_type": "code",
   "execution_count": 8,
   "metadata": {},
   "outputs": [
    {
     "name": "stdout",
     "output_type": "stream",
     "text": [
      "Dash is running on http://127.0.0.1:8050/\n",
      "\n",
      "Dash is running on http://127.0.0.1:8050/\n",
      "\n",
      "Dash is running on http://127.0.0.1:8050/\n",
      "\n",
      "Dash is running on http://127.0.0.1:8050/\n",
      "\n",
      "Dash is running on http://127.0.0.1:8050/\n",
      "\n",
      "Dash is running on http://127.0.0.1:8050/\n",
      "\n",
      " * Serving Flask app \"__main__\" (lazy loading)\n",
      " * Environment: production\n",
      "   WARNING: This is a development server. Do not use it in a production deployment.\n",
      "   Use a production WSGI server instead.\n",
      " * Debug mode: off\n"
     ]
    },
    {
     "name": "stderr",
     "output_type": "stream",
     "text": [
      " * Running on http://127.0.0.1:8050/ (Press CTRL+C to quit)\n",
      "127.0.0.1 - - [04/Sep/2020 20:54:48] \"\u001b[37mGET / HTTP/1.1\u001b[0m\" 200 -\n",
      "127.0.0.1 - - [04/Sep/2020 20:54:48] \"\u001b[37mGET /_dash-layout HTTP/1.1\u001b[0m\" 200 -\n",
      "127.0.0.1 - - [04/Sep/2020 20:54:48] \"\u001b[37mGET /_dash-dependencies HTTP/1.1\u001b[0m\" 200 -\n"
     ]
    }
   ],
   "source": [
    "## 導入dash需要的套件\n",
    "import dash\n",
    "import dash_core_components as dcc\n",
    "import dash_html_components as html\n",
    "\n",
    "## 啟動Dash\n",
    "app = dash.Dash()\n",
    "\n",
    "## 網頁介面\n",
    "app.layout = html.Div([\n",
    "    \n",
    "    ## 建立滑桿\n",
    "    ## 設定included = True\n",
    "    dcc.Slider(\n",
    "        min = 0,\n",
    "        max = 200,\n",
    "        value = 66,\n",
    "        marks = {\n",
    "            0: {'label':'原點', 'style': {'color': '##FFD306'}},\n",
    "            50: {'label': '1/4距離'},\n",
    "            100: {'label': '一半距離'},\n",
    "            150: {'label': '3/4距離'},\n",
    "            200: {'label': '到達目的地'}\n",
    "        },\n",
    "        step = 20,\n",
    "        included = True\n",
    "    ),\n",
    "    \n",
    "    \n",
    "    ## 空行\n",
    "    html.Br(),\n",
    "    html.Br(),\n",
    "    html.Br(),\n",
    "    html.Br(),\n",
    "    \n",
    "    ## 設定included = False\n",
    "    dcc.Slider(\n",
    "        min = 0,\n",
    "        max = 200,\n",
    "        value = 66,\n",
    "        marks = {\n",
    "            0: {'label':'原點', 'style': {'color': '##FFD306'}},\n",
    "            50: {'label': '1/4距離'},\n",
    "            100: {'label': '一半距離'},\n",
    "            150: {'label': '3/4距離'},\n",
    "            200: {'label': '到達目的地'}\n",
    "        },\n",
    "        step = 20,\n",
    "        tooltip = {'always_visible':True},\n",
    "        included = False\n",
    "    ),\n",
    "    \n",
    "])\n",
    "\n",
    "\n",
    "## 啟動Local Server\n",
    "if __name__ == '__main__':\n",
    "    app.run_server()\n"
   ]
  },
  {
   "cell_type": "markdown",
   "metadata": {},
   "source": [
    "## 範圍滑桿 與 滑桿的差別"
   ]
  },
  {
   "cell_type": "code",
   "execution_count": 11,
   "metadata": {},
   "outputs": [
    {
     "name": "stdout",
     "output_type": "stream",
     "text": [
      "Dash is running on http://127.0.0.1:8050/\n",
      "\n",
      "Dash is running on http://127.0.0.1:8050/\n",
      "\n",
      "Dash is running on http://127.0.0.1:8050/\n",
      "\n",
      "Dash is running on http://127.0.0.1:8050/\n",
      "\n",
      "Dash is running on http://127.0.0.1:8050/\n",
      "\n",
      "Dash is running on http://127.0.0.1:8050/\n",
      "\n",
      "Dash is running on http://127.0.0.1:8050/\n",
      "\n",
      " * Serving Flask app \"__main__\" (lazy loading)\n",
      " * Environment: production\n",
      "   WARNING: This is a development server. Do not use it in a production deployment.\n",
      "   Use a production WSGI server instead.\n",
      " * Debug mode: off\n"
     ]
    },
    {
     "name": "stderr",
     "output_type": "stream",
     "text": [
      " * Running on http://127.0.0.1:8050/ (Press CTRL+C to quit)\n",
      "127.0.0.1 - - [04/Sep/2020 21:07:49] \"\u001b[37mGET / HTTP/1.1\u001b[0m\" 200 -\n",
      "127.0.0.1 - - [04/Sep/2020 21:07:49] \"\u001b[37mGET /_dash-layout HTTP/1.1\u001b[0m\" 200 -\n",
      "127.0.0.1 - - [04/Sep/2020 21:07:49] \"\u001b[37mGET /_dash-dependencies HTTP/1.1\u001b[0m\" 200 -\n"
     ]
    }
   ],
   "source": [
    "## 導入dash需要的套件\n",
    "import dash\n",
    "import dash_core_components as dcc\n",
    "import dash_html_components as html\n",
    "\n",
    "## 啟動Dash\n",
    "app = dash.Dash()\n",
    "\n",
    "## 網頁介面\n",
    "app.layout = html.Div([\n",
    "    \n",
    "    html.Label(\"範圍滑桿 RangeSlider\"),\n",
    "    \n",
    "    ## 範圍滑桿\n",
    "    dcc.RangeSlider(\n",
    "        min = 0,\n",
    "        max = 100,\n",
    "        step = 5,\n",
    "        value = [60,78],\n",
    "        marks = {i: i for i in range(0,101,20)}\n",
    "    ),\n",
    "    \n",
    "    ## 空行\n",
    "    html.Br(),\n",
    "    html.Br(),\n",
    "    html.Br(),\n",
    "    html.Br(),\n",
    "    \n",
    "    ## 範圍滑桿\n",
    "    dcc.Slider(\n",
    "        min = 0,\n",
    "        max = 100,\n",
    "        step = 5,\n",
    "        value = 66,\n",
    "        marks = {i: i for i in range(0,101,20)}\n",
    "    ),\n",
    "])\n",
    "\n",
    "\n",
    "## 啟動 Local Server\n",
    "if __name__ == '__main__':\n",
    "    app.run_server()\n"
   ]
  },
  {
   "cell_type": "code",
   "execution_count": 15,
   "metadata": {},
   "outputs": [
    {
     "name": "stdout",
     "output_type": "stream",
     "text": [
      "Dash is running on http://127.0.0.1:8050/\n",
      "\n",
      "Dash is running on http://127.0.0.1:8050/\n",
      "\n",
      "Dash is running on http://127.0.0.1:8050/\n",
      "\n",
      "Dash is running on http://127.0.0.1:8050/\n",
      "\n",
      "Dash is running on http://127.0.0.1:8050/\n",
      "\n",
      "Dash is running on http://127.0.0.1:8050/\n",
      "\n",
      "Dash is running on http://127.0.0.1:8050/\n",
      "\n",
      "Dash is running on http://127.0.0.1:8050/\n",
      "\n",
      "Dash is running on http://127.0.0.1:8050/\n",
      "\n",
      " * Serving Flask app \"__main__\" (lazy loading)\n",
      " * Environment: production\n",
      "   WARNING: This is a development server. Do not use it in a production deployment.\n",
      "   Use a production WSGI server instead.\n",
      " * Debug mode: off\n"
     ]
    },
    {
     "name": "stderr",
     "output_type": "stream",
     "text": [
      " * Running on http://127.0.0.1:8050/ (Press CTRL+C to quit)\n",
      "127.0.0.1 - - [04/Sep/2020 23:23:21] \"\u001b[37mGET / HTTP/1.1\u001b[0m\" 200 -\n",
      "127.0.0.1 - - [04/Sep/2020 23:23:21] \"\u001b[37mGET /_dash-layout HTTP/1.1\u001b[0m\" 200 -\n",
      "127.0.0.1 - - [04/Sep/2020 23:23:21] \"\u001b[37mGET /_dash-dependencies HTTP/1.1\u001b[0m\" 200 -\n"
     ]
    }
   ],
   "source": [
    "## 導入 Dash套件\n",
    "import dash\n",
    "import dash_core_components as dcc\n",
    "import dash_html_components as html\n",
    "\n",
    "## 啟動Dash\n",
    "app = dash.Dash()\n",
    "\n",
    "## 介面\n",
    "app.layout = html.Div([\n",
    "    \n",
    "    html.Label(\"基本資訊: \"),\n",
    "    \n",
    "    ## 空一行\n",
    "    html.Br(),\n",
    "    \n",
    "    ## 輸入格\n",
    "    dcc.Input(\n",
    "        placeholder = \"Input Your Information\",\n",
    "        type = 'text',\n",
    "        value = '',\n",
    "        autoFocus = True,\n",
    "        style = {'color':'black'},\n",
    "        size = 60,\n",
    "        spellCheck = False\n",
    "\n",
    "    ),\n",
    "    \n",
    "    ## 空一行\n",
    "    html.Br(),\n",
    "    \n",
    "    html.Label(\"電話: \"),\n",
    "    \n",
    "    dcc.Input(\n",
    "        placeholder = \"Input Your Phone Number(10 number only)\",\n",
    "        type = 'tel',\n",
    "        value = '',\n",
    "        multiple = True,\n",
    "        style = {'color':'blue'},\n",
    "        maxLength = 10,\n",
    "        size = 60\n",
    "    )\n",
    "    \n",
    "    \n",
    "])\n",
    "\n",
    "## 啟動Local Server\n",
    "if __name__ == '__main__':\n",
    "    app.run_server()\n"
   ]
  },
  {
   "cell_type": "markdown",
   "metadata": {},
   "source": [
    "## 使用Textarea製作一個文字框"
   ]
  },
  {
   "cell_type": "code",
   "execution_count": 17,
   "metadata": {},
   "outputs": [
    {
     "name": "stdout",
     "output_type": "stream",
     "text": [
      "Dash is running on http://127.0.0.1:8050/\n",
      "\n",
      "Dash is running on http://127.0.0.1:8050/\n",
      "\n",
      "Dash is running on http://127.0.0.1:8050/\n",
      "\n",
      "Dash is running on http://127.0.0.1:8050/\n",
      "\n",
      "Dash is running on http://127.0.0.1:8050/\n",
      "\n",
      "Dash is running on http://127.0.0.1:8050/\n",
      "\n",
      "Dash is running on http://127.0.0.1:8050/\n",
      "\n",
      "Dash is running on http://127.0.0.1:8050/\n",
      "\n",
      "Dash is running on http://127.0.0.1:8050/\n",
      "\n",
      "Dash is running on http://127.0.0.1:8050/\n",
      "\n",
      " * Serving Flask app \"__main__\" (lazy loading)\n",
      " * Environment: production\n",
      "   WARNING: This is a development server. Do not use it in a production deployment.\n",
      "   Use a production WSGI server instead.\n",
      " * Debug mode: off\n"
     ]
    },
    {
     "name": "stderr",
     "output_type": "stream",
     "text": [
      " * Running on http://127.0.0.1:8050/ (Press CTRL+C to quit)\n",
      "127.0.0.1 - - [04/Sep/2020 23:42:34] \"\u001b[37mGET / HTTP/1.1\u001b[0m\" 200 -\n",
      "127.0.0.1 - - [04/Sep/2020 23:42:34] \"\u001b[37mGET /_dash-layout HTTP/1.1\u001b[0m\" 200 -\n",
      "127.0.0.1 - - [04/Sep/2020 23:42:34] \"\u001b[37mGET /_dash-dependencies HTTP/1.1\u001b[0m\" 200 -\n"
     ]
    }
   ],
   "source": [
    "## 導入 Dash套件\n",
    "import dash\n",
    "import dash_core_components as dcc\n",
    "import dash_html_components as html\n",
    "\n",
    "## 啟動Dash\n",
    "app = dash.Dash()\n",
    "\n",
    "## 網頁介面\n",
    "app.layout = html.Div([ \n",
    "    ## 繪製文字框\n",
    "    dcc.Textarea(\n",
    "        placeholder = '請寫下您的寶貴意見',\n",
    "        value = '',\n",
    "        style = {'width':'60%'}\n",
    "    ),\n",
    "    ## 空一行\n",
    "    html.Br(),\n",
    "    dcc.Textarea(\n",
    "        placeholder = '備註',\n",
    "        value = '',\n",
    "        style = {'width':'40%'}        \n",
    "    )\n",
    "])\n",
    "\n",
    "## 啟動Local Server\n",
    "if __name__ == '__main__':\n",
    "    app.run_server()"
   ]
  },
  {
   "cell_type": "markdown",
   "metadata": {},
   "source": [
    "## 用Checklist實作一個複選的勾選清單"
   ]
  },
  {
   "cell_type": "code",
   "execution_count": null,
   "metadata": {},
   "outputs": [
    {
     "name": "stdout",
     "output_type": "stream",
     "text": [
      "Dash is running on http://127.0.0.1:8050/\n",
      "\n",
      "Dash is running on http://127.0.0.1:8050/\n",
      "\n",
      "Dash is running on http://127.0.0.1:8050/\n",
      "\n",
      "Dash is running on http://127.0.0.1:8050/\n",
      "\n",
      "Dash is running on http://127.0.0.1:8050/\n",
      "\n",
      "Dash is running on http://127.0.0.1:8050/\n",
      "\n",
      "Dash is running on http://127.0.0.1:8050/\n",
      "\n",
      "Dash is running on http://127.0.0.1:8050/\n",
      "\n",
      "Dash is running on http://127.0.0.1:8050/\n",
      "\n",
      "Dash is running on http://127.0.0.1:8050/\n",
      "\n",
      "Dash is running on http://127.0.0.1:8050/\n",
      "\n",
      "Dash is running on http://127.0.0.1:8050/\n",
      "\n",
      "Dash is running on http://127.0.0.1:8050/\n",
      "\n",
      "Dash is running on http://127.0.0.1:8050/\n",
      "\n",
      "Dash is running on http://127.0.0.1:8050/\n",
      "\n",
      " * Serving Flask app \"__main__\" (lazy loading)\n",
      " * Environment: production\n",
      "   WARNING: This is a development server. Do not use it in a production deployment.\n",
      "   Use a production WSGI server instead.\n",
      " * Debug mode: off\n"
     ]
    },
    {
     "name": "stderr",
     "output_type": "stream",
     "text": [
      " * Running on http://127.0.0.1:8050/ (Press CTRL+C to quit)\n",
      "127.0.0.1 - - [04/Sep/2020 23:59:11] \"\u001b[37mGET / HTTP/1.1\u001b[0m\" 200 -\n",
      "127.0.0.1 - - [04/Sep/2020 23:59:11] \"\u001b[37mGET /_dash-layout HTTP/1.1\u001b[0m\" 200 -\n",
      "127.0.0.1 - - [04/Sep/2020 23:59:11] \"\u001b[37mGET /_dash-dependencies HTTP/1.1\u001b[0m\" 200 -\n"
     ]
    }
   ],
   "source": [
    "## 導入 Dash套件\n",
    "import dash\n",
    "import dash_core_components as dcc\n",
    "import dash_html_components as html\n",
    "\n",
    "## 啟動Dash\n",
    "app = dash.Dash()\n",
    "\n",
    "## 網頁介面\n",
    "app.layout = html.Div([\n",
    "    \n",
    "    html.Label(\"垂直的勾選清單\"),\n",
    "    ## 勾選清單\n",
    "    dcc.Checklist(\n",
    "        options = [\n",
    "            {'label':'寫作業','value':'h'},\n",
    "            {'label':'創作','value':'c','disabled':True},\n",
    "            {'label':'澆花','value':'f'},\n",
    "            {'label':'遛狗','value':'d'},\n",
    "            {'label':'倒垃圾','value':'g'},\n",
    "            {'label':'洗碗','value':'w'},\n",
    "        ],\n",
    "        value = ['h','c'],\n",
    "        style = {'color':'darkblue'},\n",
    "        labelStyle = {'display':'block'}\n",
    "    ),\n",
    "    \n",
    "    \n",
    "    ## 空行\n",
    "    html.Br(),\n",
    "    html.Br(),\n",
    "    html.Label(\"水平的勾選清單\"),\n",
    "    \n",
    "    dcc.Checklist(\n",
    "        options = [\n",
    "            {'label':'寫作業','value':'h'},\n",
    "            {'label':'創作','value':'c','disabled':True},\n",
    "            {'label':'澆花','value':'f'},\n",
    "            {'label':'遛狗','value':'d'},\n",
    "            {'label':'倒垃圾','value':'g'},\n",
    "            {'label':'洗碗','value':'w'},\n",
    "        ],\n",
    "        value = ['h','c'],\n",
    "        style = {'color':'darkblue'},\n",
    "        labelStyle = {'display':'inline-block','color':'gold'}\n",
    "    \n",
    "    )\n",
    "    \n",
    "])\n",
    "\n",
    "## 啟動Local Server\n",
    "if __name__ == '__main__':\n",
    "    app.run_server()\n",
    "\n"
   ]
  }
 ],
 "metadata": {
  "kernelspec": {
   "display_name": "Python 3",
   "language": "python",
   "name": "python3"
  },
  "language_info": {
   "codemirror_mode": {
    "name": "ipython",
    "version": 3
   },
   "file_extension": ".py",
   "mimetype": "text/x-python",
   "name": "python",
   "nbconvert_exporter": "python",
   "pygments_lexer": "ipython3",
   "version": "3.7.6"
  }
 },
 "nbformat": 4,
 "nbformat_minor": 4
}
