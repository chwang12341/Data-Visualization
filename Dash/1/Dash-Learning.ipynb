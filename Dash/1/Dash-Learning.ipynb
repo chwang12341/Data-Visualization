{
 "cells": [
  {
   "cell_type": "code",
   "execution_count": 3,
   "metadata": {},
   "outputs": [
    {
     "name": "stdout",
     "output_type": "stream",
     "text": [
      "Dash is running on http://127.0.0.1:5000/\n",
      "\n",
      "Dash is running on http://127.0.0.1:5000/\n",
      "\n",
      " * Serving Flask app \"__main__\" (lazy loading)\n",
      " * Environment: production\n",
      "   WARNING: This is a development server. Do not use it in a production deployment.\n",
      "   Use a production WSGI server instead.\n",
      " * Debug mode: off\n"
     ]
    },
    {
     "name": "stderr",
     "output_type": "stream",
     "text": [
      " * Running on http://127.0.0.1:5000/ (Press CTRL+C to quit)\n",
      "127.0.0.1 - - [04/Sep/2020 00:20:59] \"\u001b[37mGET / HTTP/1.1\u001b[0m\" 200 -\n",
      "127.0.0.1 - - [04/Sep/2020 00:21:00] \"\u001b[37mGET /_dash-layout HTTP/1.1\u001b[0m\" 200 -\n",
      "127.0.0.1 - - [04/Sep/2020 00:21:00] \"\u001b[37mGET /_dash-dependencies HTTP/1.1\u001b[0m\" 200 -\n"
     ]
    }
   ],
   "source": [
    "## 導入dash所需的套件\n",
    "import dash\n",
    "import dash_core_components as dcc\n",
    "import dash_html_components as html\n",
    "\n",
    "## 啟動dash\n",
    "app = dash.Dash()\n",
    "\n",
    "## 設定網頁介面\n",
    "app.layout = html.Div([\n",
    "    ## 設定一個h1標籤(tag)，寫下標題\n",
    "    html.H1(\"哈囉~~ Dash!!!!\"),\n",
    "    html.Div('Plotly 網頁框架 - Dash應用'),\n",
    "    html.P('HTML tag(p)應用')\n",
    "    \n",
    "])\n",
    "\n",
    "\n",
    "## 啟動Local Server\n",
    "if __name__ == '__main__':\n",
    "    ## port: 設定開出來的網路窗口，通常會有預設的，可以透過help()查看\n",
    "    ## debug = True: 打開所有開發工具\n",
    "    app.run_server(port = 5000, debug = False)\n",
    "\n"
   ]
  },
  {
   "cell_type": "code",
   "execution_count": 4,
   "metadata": {},
   "outputs": [
    {
     "name": "stdout",
     "output_type": "stream",
     "text": [
      "Dash is running on http://127.0.0.1:8050/\n",
      "\n",
      " * Serving Flask app \"__main__\" (lazy loading)\n",
      " * Environment: production\n",
      "   WARNING: This is a development server. Do not use it in a production deployment.\n",
      "   Use a production WSGI server instead.\n",
      " * Debug mode: off\n"
     ]
    },
    {
     "name": "stderr",
     "output_type": "stream",
     "text": [
      " * Running on http://127.0.0.1:8050/ (Press CTRL+C to quit)\n",
      "127.0.0.1 - - [04/Sep/2020 00:22:18] \"\u001b[37mGET / HTTP/1.1\u001b[0m\" 200 -\n",
      "127.0.0.1 - - [04/Sep/2020 00:22:18] \"\u001b[37mGET /_dash-component-suites/dash_renderer/polyfill@7.v1_7_0m1599136272.8.7.min.js HTTP/1.1\u001b[0m\" 200 -\n",
      "127.0.0.1 - - [04/Sep/2020 00:22:18] \"\u001b[37mGET /_dash-component-suites/dash_renderer/react@16.v1_7_0m1599136272.13.0.min.js HTTP/1.1\u001b[0m\" 200 -\n",
      "127.0.0.1 - - [04/Sep/2020 00:22:18] \"\u001b[37mGET /_dash-component-suites/dash_renderer/prop-types@15.v1_7_0m1599136272.7.2.min.js HTTP/1.1\u001b[0m\" 200 -\n",
      "127.0.0.1 - - [04/Sep/2020 00:22:18] \"\u001b[37mGET /_dash-component-suites/dash_html_components/dash_html_components.v1_1_0m1599136274.min.js HTTP/1.1\u001b[0m\" 200 -\n",
      "127.0.0.1 - - [04/Sep/2020 00:22:18] \"\u001b[37mGET /_dash-component-suites/dash_core_components/dash_core_components.v1_11_0m1599136273.min.js HTTP/1.1\u001b[0m\" 200 -\n",
      "127.0.0.1 - - [04/Sep/2020 00:22:18] \"\u001b[37mGET /_dash-component-suites/dash_renderer/react-dom@16.v1_7_0m1599136272.13.0.min.js HTTP/1.1\u001b[0m\" 200 -\n",
      "127.0.0.1 - - [04/Sep/2020 00:22:18] \"\u001b[37mGET /_dash-component-suites/dash_core_components/dash_core_components-shared.v1_11_0m1599136273.js HTTP/1.1\u001b[0m\" 200 -\n",
      "127.0.0.1 - - [04/Sep/2020 00:22:18] \"\u001b[37mGET /_dash-component-suites/dash_renderer/dash_renderer.v1_7_0m1599136272.min.js HTTP/1.1\u001b[0m\" 200 -\n",
      "127.0.0.1 - - [04/Sep/2020 00:22:18] \"\u001b[37mGET /_dash-dependencies HTTP/1.1\u001b[0m\" 200 -\n",
      "127.0.0.1 - - [04/Sep/2020 00:22:18] \"\u001b[37mGET /_dash-layout HTTP/1.1\u001b[0m\" 200 -\n",
      "127.0.0.1 - - [04/Sep/2020 00:22:18] \"\u001b[37mGET /_dash-component-suites/dash_core_components/async-graph.v1_11_0m1598373133.js HTTP/1.1\u001b[0m\" 200 -\n",
      "127.0.0.1 - - [04/Sep/2020 00:22:18] \"\u001b[37mGET /_favicon.ico?v=1.15.0 HTTP/1.1\u001b[0m\" 200 -\n",
      "127.0.0.1 - - [04/Sep/2020 00:22:18] \"\u001b[37mGET /_dash-component-suites/dash_core_components/async-plotlyjs.v1_11_0m1598373133.js HTTP/1.1\u001b[0m\" 200 -\n"
     ]
    }
   ],
   "source": [
    "## 導入dash套件\n",
    "import dash\n",
    "import dash_core_components as dcc\n",
    "import dash_html_components as html\n",
    "\n",
    "## 啟動dash\n",
    "app = dash.Dash()\n",
    "\n",
    "\n",
    "## 介面設定\n",
    "app.layout = html.Div(children = [\n",
    "    html.H1(children = \"哈囉~~ Dash!!!!\",\n",
    "           style = {\n",
    "               'textAlign': 'center',\n",
    "               'color': '#46A3FF'\n",
    "           }\n",
    "           ),\n",
    "    html.Div('Plotly 網頁框架 - Dash 的應用',\n",
    "            style = dict(textAlign = 'center', color = 'blue')\n",
    "            ),\n",
    "    html.P('HTML tag(p)應用'),\n",
    "    \n",
    "    dcc.Graph(\n",
    "        id = 'Dash Chart',\n",
    "        ## figure 是由data與layout所構成\n",
    "        figure = {\n",
    "            'data' : [\n",
    "                {'x': [6,8,14,18,28,30,36], 'y': [2,6,6,8,20,18,38], 'type': 'bar', 'name': 'Dash Bar Chart1'},\n",
    "                {'x': [7,8,16,18,26,30,36], 'y': [4,8,10,18,28,28,36], 'type':'bar', 'name': 'Dash Bar Chart2'}\n",
    "            ],\n",
    "            'layout': {\n",
    "                'plot_bgcolor': '#66B3FF',\n",
    "                'paper_bgcolor': '#D8D8EB',\n",
    "                'font': dict(color = '#484891'),\n",
    "                'title': 'Dash Bar Plots'\n",
    "            }\n",
    "        }\n",
    "    )\n",
    "])\n",
    "\n",
    "\n",
    "if __name__ == '__main__':\n",
    "    app.run_server()\n",
    "\n",
    "\n"
   ]
  },
  {
   "cell_type": "code",
   "execution_count": 1,
   "metadata": {},
   "outputs": [
    {
     "name": "stdout",
     "output_type": "stream",
     "text": [
      "Dash is running on http://127.0.0.1:5000/\n",
      "\n",
      " * Serving Flask app \"__main__\" (lazy loading)\n",
      " * Environment: production\n",
      "   WARNING: This is a development server. Do not use it in a production deployment.\n",
      "   Use a production WSGI server instead.\n",
      " * Debug mode: off\n"
     ]
    },
    {
     "name": "stderr",
     "output_type": "stream",
     "text": [
      " * Running on http://127.0.0.1:5000/ (Press CTRL+C to quit)\n",
      "127.0.0.1 - - [04/Sep/2020 00:23:22] \"\u001b[37mGET / HTTP/1.1\u001b[0m\" 200 -\n",
      "127.0.0.1 - - [04/Sep/2020 00:23:22] \"\u001b[37mGET /_dash-layout HTTP/1.1\u001b[0m\" 200 -\n",
      "127.0.0.1 - - [04/Sep/2020 00:23:22] \"\u001b[37mGET /_dash-dependencies HTTP/1.1\u001b[0m\" 200 -\n"
     ]
    }
   ],
   "source": [
    "## 導入dash套件\n",
    "import dash\n",
    "import dash_core_components as dcc\n",
    "import dash_html_components as html\n",
    "## Plotly繪圖套件\n",
    "import plotly.graph_objects as go\n",
    "\n",
    "\n",
    "## 啟動dash\n",
    "app = dash.Dash()\n",
    "\n",
    "## 設定網頁介面\n",
    "app.layout = html.Div([\n",
    "    html.H1(\"哈囉~~ Dash!!!!\"),\n",
    "    html.Div('Plotly 網頁架構 - Dash的應用'),\n",
    "    html.P('HTML tag(p) 應用'),\n",
    "    \n",
    "    \n",
    "    dcc.Graph(\n",
    "        id = 'First Dash Graph',\n",
    "        ## Plotly的 Figure是由data與graph構成的\n",
    "        figure = {\n",
    "            ## 繪圖\n",
    "            'data': [go.Bar(\n",
    "                x = [6,8,14,18,28,36],\n",
    "                y = [2,6,6,8,20,38],\n",
    "                text = ['a','b','c','d','e','f'],\n",
    "                textposition = 'auto'\n",
    "            )],\n",
    "            ## 設定圖形介面\n",
    "            'layout': go.Layout()   \n",
    "        }\n",
    "    )\n",
    "])\n",
    "\n",
    "if __name__ == '__main__':\n",
    "    app.run_server(port = 5000)"
   ]
  },
  {
   "cell_type": "code",
   "execution_count": 1,
   "metadata": {},
   "outputs": [
    {
     "name": "stdout",
     "output_type": "stream",
     "text": [
      "Dash is running on http://127.0.0.1:5000/\n",
      "\n",
      " * Serving Flask app \"__main__\" (lazy loading)\n",
      " * Environment: production\n",
      "   WARNING: This is a development server. Do not use it in a production deployment.\n",
      "   Use a production WSGI server instead.\n",
      " * Debug mode: off\n"
     ]
    },
    {
     "name": "stderr",
     "output_type": "stream",
     "text": [
      " * Running on http://127.0.0.1:5000/ (Press CTRL+C to quit)\n",
      "127.0.0.1 - - [04/Sep/2020 00:24:37] \"\u001b[37mGET / HTTP/1.1\u001b[0m\" 200 -\n",
      "127.0.0.1 - - [04/Sep/2020 00:24:37] \"\u001b[37mGET /_dash-layout HTTP/1.1\u001b[0m\" 200 -\n",
      "127.0.0.1 - - [04/Sep/2020 00:24:37] \"\u001b[37mGET /_dash-dependencies HTTP/1.1\u001b[0m\" 200 -\n"
     ]
    }
   ],
   "source": [
    "## 導入dash套件\n",
    "import dash\n",
    "import dash_core_components as dcc\n",
    "import dash_html_components as html\n",
    "## Plotly繪圖套件\n",
    "import plotly.graph_objects as go\n",
    "\n",
    "\n",
    "## 啟動dash\n",
    "app = dash.Dash()\n",
    "\n",
    "## 設定網頁介面\n",
    "app.layout = html.Div([\n",
    "    html.H1(\"哈囉~~ Dash!!!!\"),\n",
    "    html.Div('Plotly 網頁架構 - Dash的應用'),\n",
    "    html.P('HTML tag(p) 應用'),\n",
    "    \n",
    "    \n",
    "    dcc.Graph(\n",
    "        id = 'First Dash Graph',\n",
    "        ## Plotly的 Figure是由data與graph構成的\n",
    "        figure = {\n",
    "            ## 繪圖\n",
    "            'data': [\n",
    "                go.Scatter(\n",
    "                    x = [6,8,14,18,28,36],\n",
    "                    y = [2,6,6,8,20,38],\n",
    "                    text = ['a','b','c','d','e','f'],\n",
    "                    mode = 'markers+lines+text'\n",
    "            ),\n",
    "                go.Scatter(\n",
    "                    x = [6,8,14,18,28,36],\n",
    "                    y = [16,18,26,28,34,38],\n",
    "                    text = ['a','b','c','d','e','f'],\n",
    "                    mode = 'markers+lines+text'\n",
    "            )\n",
    "                    \n",
    "                    ],\n",
    "            ## 設定圖形介面\n",
    "            'layout': go.Layout(\n",
    "                title = \"Lines and Markers Plots\",\n",
    "                xaxis = {'title': 'X Axis Values'},\n",
    "                yaxis = {'title': \"Y Axis Values\"}\n",
    "            )   \n",
    "        }\n",
    "    )\n",
    "])\n",
    "\n",
    "if __name__ == '__main__':\n",
    "    app.run_server(port = 5000)"
   ]
  },
  {
   "cell_type": "code",
   "execution_count": 1,
   "metadata": {},
   "outputs": [
    {
     "name": "stdout",
     "output_type": "stream",
     "text": [
      "Dash is running on http://127.0.0.1:5000/\n",
      "\n",
      " * Serving Flask app \"__main__\" (lazy loading)\n",
      " * Environment: production\n",
      "   WARNING: This is a development server. Do not use it in a production deployment.\n",
      "   Use a production WSGI server instead.\n",
      " * Debug mode: off\n"
     ]
    },
    {
     "name": "stderr",
     "output_type": "stream",
     "text": [
      " * Running on http://127.0.0.1:5000/ (Press CTRL+C to quit)\n",
      "127.0.0.1 - - [04/Sep/2020 00:40:30] \"\u001b[37mGET / HTTP/1.1\u001b[0m\" 200 -\n",
      "127.0.0.1 - - [04/Sep/2020 00:40:30] \"\u001b[37mGET /_dash-layout HTTP/1.1\u001b[0m\" 200 -\n",
      "127.0.0.1 - - [04/Sep/2020 00:40:30] \"\u001b[37mGET /_dash-dependencies HTTP/1.1\u001b[0m\" 200 -\n"
     ]
    }
   ],
   "source": [
    "## 導入dash套件\n",
    "import dash\n",
    "import dash_core_components as dcc\n",
    "import dash_html_components as html\n",
    "## Plotly繪圖套件\n",
    "import plotly.graph_objects as go\n",
    "\n",
    "## Python數據處理套件\n",
    "import pandas as pd\n",
    "\n",
    "## 啟動dash\n",
    "app = dash.Dash()\n",
    "\n",
    "## 載入數據集\n",
    "sales_data = pd.read_csv(\"https://raw.githubusercontent.com/plotly/datasets/master/sales_success.csv\")\n",
    "\n",
    "\n",
    "## 設定網頁介面\n",
    "app.layout = html.Div([\n",
    "\n",
    "    dcc.Graph(\n",
    "        id = 'First Dash Graph',\n",
    "        ## Plotly的 Figure是由data與graph構成的\n",
    "        figure = {\n",
    "            ## 繪圖\n",
    "            'data': [\n",
    "                go.Scatter(\n",
    "                    x = sales_data.calls,\n",
    "                    y = sales_data.sales,\n",
    "                    text = ['a','b','c','d','e','f'],\n",
    "                    mode = 'markers'\n",
    "            )\n",
    "                    ],\n",
    "            ## 設定圖形介面\n",
    "            'layout': go.Layout(\n",
    "                title = \"Sales & Calls\",\n",
    "                xaxis = {'title': 'Calls'},\n",
    "                yaxis = {'title': \"Sales\"},\n",
    "                hovermode = 'closest'\n",
    "            )   \n",
    "        }\n",
    "    )\n",
    "])\n",
    "\n",
    "if __name__ == '__main__':\n",
    "    app.run_server(port = 5000)"
   ]
  }
 ],
 "metadata": {
  "kernelspec": {
   "display_name": "Python 3",
   "language": "python",
   "name": "python3"
  },
  "language_info": {
   "codemirror_mode": {
    "name": "ipython",
    "version": 3
   },
   "file_extension": ".py",
   "mimetype": "text/x-python",
   "name": "python",
   "nbconvert_exporter": "python",
   "pygments_lexer": "ipython3",
   "version": "3.7.6"
  }
 },
 "nbformat": 4,
 "nbformat_minor": 4
}
